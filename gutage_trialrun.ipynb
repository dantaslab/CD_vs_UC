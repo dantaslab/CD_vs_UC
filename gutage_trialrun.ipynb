{
 "cells": [
  {
   "cell_type": "code",
   "execution_count": 61,
   "id": "9ea55755-840d-4ebc-92f4-d5db2d4abd8e",
   "metadata": {},
   "outputs": [],
   "source": [
    "import pandas as pd\n",
    "import seaborn as sns\n",
    "df = pd.read_csv(\"/Users/mark/Library/CloudStorage/Box-Box/Projects/Crohns/sparc_dataset/231015_linear_model_features.csv\")\n",
    "df[\"Age\"] =  pd.DatetimeIndex(df[\"SAMPLE_COLLECTED_DATE\"]).year - df[\"BIRTH_YEAR\"]\n",
    "df = df.dropna(subset=\"DISEASE_ACTIVITY_60\")\n",
    "df_encoded = df.replace({\"Female\":0, \"Male\":1, \"Crohn's Disease\":0, 'Ulcerative Colitis':1, \"Remission\":0,  \"Mild\":1, \"Moderate\":2,\"Severe\":3})\n",
    "\n",
    "df_encoded=df_encoded.fillna(df_encoded.mean(numeric_only=True))\n",
    "#df_encoded.to_csv(\"/Users/mark/Library/CloudStorage/Box-Box/Projects/Crohns/sparc_dataset/231019_linear_model_features.csv\", index=False)\n",
    "\n",
    "\n",
    "\n",
    "df_encoded = df_encoded.drop([\"REQUESTED_FILE_NAME\", \"DEIDENTIFIED_MASTER_PATIENT_ID\", \"SAMPLE_COLLECTED_DATE\", \"BIRTH_YEAR\"], axis=1)\n",
    "#df.loc[df['column_name'] == some_value]\n",
    "remission_df = df_encoded.loc[df_encoded[\"DISEASE_ACTIVITY_60\"] == 0].drop(columns=[\"DISEASE_ACTIVITY_60\"])\n",
    "remission_X =remission_df.drop(columns=[\"Age\"])\n",
    "remission_y = remission_df[[\"Age\"]]\n",
    "\n",
    "mild_df = df_encoded.loc[df_encoded[\"DISEASE_ACTIVITY_60\"] == 1].drop(columns=[\"DISEASE_ACTIVITY_60\"])\n",
    "mild_X = mild_df.drop(columns=[\"Age\"])\n",
    "mild_y = mild_df[[\"Age\"]]\n",
    "\n",
    "moderate_df = df_encoded.loc[df_encoded[\"DISEASE_ACTIVITY_60\"] == 2].drop(columns=[\"DISEASE_ACTIVITY_60\"])\n",
    "moderate_X = moderate_df.drop(columns=[\"Age\"])\n",
    "moderate_y = moderate_df[[\"Age\"]]\n",
    "\n",
    "\n",
    "severe_df = df_encoded.loc[df_encoded[\"DISEASE_ACTIVITY_60\"] == 3].drop(columns=[\"DISEASE_ACTIVITY_60\"])\n",
    "severe_X = severe_df.drop(columns=[\"Age\"])\n",
    "severe_y = severe_df[[\"Age\"]]\n"
   ]
  },
  {
   "cell_type": "code",
   "execution_count": 56,
   "id": "688f045a-802b-403d-a650-10c9438a3856",
   "metadata": {},
   "outputs": [],
   "source": [
    "from sklearn.linear_model import LinearRegression\n",
    "from sklearn.metrics import mean_squared_error\n",
    "from sklearn.metrics import mean_absolute_error\n",
    "\n",
    "remission_regression = LinearRegression().fit(remission_X, remission_y)\n",
    "mild_regression = LinearRegression().fit(mild_X, mild_y)\n",
    "moderate_regression = LinearRegression().fit(moderate_X, moderate_y)\n",
    "severe_regression = LinearRegression().fit(severe_X, severe_y)\n",
    "\n",
    "lm_dict = {\"Remission\":remission_regression, \"Mild\":mild_regression, \"Moderate\":moderate_regression, \"Severe\":severe_regression}\n",
    "test_dict = {\"Remission\":remission_y, \"Mild\":mild_y, \"Moderate\":moderate_y, \"Severe\":severe_y}\n",
    "train_dict = {\"Remission\":remission_X, \"Mild\":mild_X, \"Moderate\":moderate_X, \"Severe\":severe_X}\n",
    "\n",
    "\n",
    "\n",
    "from sklearn.inspection import permutation_importance\n",
    "\n",
    "\n",
    "def plot_permutation_importance(clf, X, y, ax):\n",
    "    result = permutation_importance(clf, X, y, n_repeats=10, random_state=42, n_jobs=2)\n",
    "    perm_sorted_idx = result.importances_mean.argsort()\n",
    "\n",
    "    ax.boxplot(\n",
    "        result.importances[perm_sorted_idx].T,\n",
    "        vert=False,\n",
    "        labels=X.columns[perm_sorted_idx],\n",
    "    )\n",
    "    ax.axvline(x=0, color=\"k\", linestyle=\"--\")\n",
    "    return ax"
   ]
  },
  {
   "cell_type": "code",
   "execution_count": 63,
   "id": "aa4d6370-8ab5-49da-8272-8b399c88b692",
   "metadata": {},
   "outputs": [
    {
     "name": "stdout",
     "output_type": "stream",
     "text": [
      "Remission  on Remission\n",
      "MAE 6.064227898386721e-14\n",
      "MSE 6.224458693630254e-27\n",
      "Remission  on Mild\n",
      "MAE 4.587683812570593\n",
      "MSE 33.85247675983251\n",
      "Remission  on Moderate\n",
      "MAE 5.040133218853939\n",
      "MSE 39.55400765749862\n",
      "Remission  on Severe\n",
      "MAE 5.671206844301622\n",
      "MSE 53.911902626098275\n"
     ]
    },
    {
     "ename": "ValueError",
     "evalue": "Shape of passed values is (1, 2922), indices imply (1, 1)",
     "output_type": "error",
     "traceback": [
      "\u001b[0;31m---------------------------------------------------------------------------\u001b[0m",
      "\u001b[0;31mValueError\u001b[0m                                Traceback (most recent call last)",
      "Cell \u001b[0;32mIn[63], line 19\u001b[0m\n\u001b[1;32m     14\u001b[0m \u001b[38;5;28mprint\u001b[39m(\u001b[38;5;124m\"\u001b[39m\u001b[38;5;124mMAE\u001b[39m\u001b[38;5;124m\"\u001b[39m, mean_absolute_error(test_dict[\u001b[38;5;124m\"\u001b[39m\u001b[38;5;124mSevere\u001b[39m\u001b[38;5;124m\"\u001b[39m], lm_dict[var]\u001b[38;5;241m.\u001b[39mpredict(train_dict[\u001b[38;5;124m\"\u001b[39m\u001b[38;5;124mSevere\u001b[39m\u001b[38;5;124m\"\u001b[39m])))\n\u001b[1;32m     15\u001b[0m \u001b[38;5;28mprint\u001b[39m(\u001b[38;5;124m\"\u001b[39m\u001b[38;5;124mMSE\u001b[39m\u001b[38;5;124m\"\u001b[39m, mean_squared_error(test_dict[\u001b[38;5;124m\"\u001b[39m\u001b[38;5;124mSevere\u001b[39m\u001b[38;5;124m\"\u001b[39m], lm_dict[var]\u001b[38;5;241m.\u001b[39mpredict(train_dict[\u001b[38;5;124m\"\u001b[39m\u001b[38;5;124mSevere\u001b[39m\u001b[38;5;124m\"\u001b[39m])))\n\u001b[0;32m---> 19\u001b[0m coefs \u001b[38;5;241m=\u001b[39m \u001b[43mpd\u001b[49m\u001b[38;5;241;43m.\u001b[39;49m\u001b[43mDataFrame\u001b[49m\u001b[43m(\u001b[49m\n\u001b[1;32m     20\u001b[0m \u001b[43m    \u001b[49m\u001b[43mlm_dict\u001b[49m\u001b[43m[\u001b[49m\u001b[43mvar\u001b[49m\u001b[43m]\u001b[49m\u001b[38;5;241;43m.\u001b[39;49m\u001b[43mcoef_\u001b[49m\u001b[43m,\u001b[49m\u001b[43m \u001b[49m\u001b[43mcolumns\u001b[49m\u001b[38;5;241;43m=\u001b[39;49m\u001b[43m[\u001b[49m\u001b[38;5;124;43m\"\u001b[39;49m\u001b[38;5;124;43mCoefficients\u001b[39;49m\u001b[38;5;124;43m\"\u001b[39;49m\u001b[43m]\u001b[49m\u001b[43m,\u001b[49m\u001b[43m \u001b[49m\u001b[43mindex\u001b[49m\u001b[38;5;241;43m=\u001b[39;49m\u001b[43mtest_dict\u001b[49m\u001b[43m[\u001b[49m\u001b[43mvar\u001b[49m\u001b[43m]\u001b[49m\u001b[38;5;241;43m.\u001b[39;49m\u001b[43mcolumns\u001b[49m\n\u001b[1;32m     21\u001b[0m \u001b[43m)\u001b[49m\n",
      "File \u001b[0;32m~/anaconda3/lib/python3.10/site-packages/pandas/core/frame.py:722\u001b[0m, in \u001b[0;36mDataFrame.__init__\u001b[0;34m(self, data, index, columns, dtype, copy)\u001b[0m\n\u001b[1;32m    712\u001b[0m         mgr \u001b[38;5;241m=\u001b[39m dict_to_mgr(\n\u001b[1;32m    713\u001b[0m             \u001b[38;5;66;03m# error: Item \"ndarray\" of \"Union[ndarray, Series, Index]\" has no\u001b[39;00m\n\u001b[1;32m    714\u001b[0m             \u001b[38;5;66;03m# attribute \"name\"\u001b[39;00m\n\u001b[0;32m   (...)\u001b[0m\n\u001b[1;32m    719\u001b[0m             typ\u001b[38;5;241m=\u001b[39mmanager,\n\u001b[1;32m    720\u001b[0m         )\n\u001b[1;32m    721\u001b[0m     \u001b[38;5;28;01melse\u001b[39;00m:\n\u001b[0;32m--> 722\u001b[0m         mgr \u001b[38;5;241m=\u001b[39m \u001b[43mndarray_to_mgr\u001b[49m\u001b[43m(\u001b[49m\n\u001b[1;32m    723\u001b[0m \u001b[43m            \u001b[49m\u001b[43mdata\u001b[49m\u001b[43m,\u001b[49m\n\u001b[1;32m    724\u001b[0m \u001b[43m            \u001b[49m\u001b[43mindex\u001b[49m\u001b[43m,\u001b[49m\n\u001b[1;32m    725\u001b[0m \u001b[43m            \u001b[49m\u001b[43mcolumns\u001b[49m\u001b[43m,\u001b[49m\n\u001b[1;32m    726\u001b[0m \u001b[43m            \u001b[49m\u001b[43mdtype\u001b[49m\u001b[38;5;241;43m=\u001b[39;49m\u001b[43mdtype\u001b[49m\u001b[43m,\u001b[49m\n\u001b[1;32m    727\u001b[0m \u001b[43m            \u001b[49m\u001b[43mcopy\u001b[49m\u001b[38;5;241;43m=\u001b[39;49m\u001b[43mcopy\u001b[49m\u001b[43m,\u001b[49m\n\u001b[1;32m    728\u001b[0m \u001b[43m            \u001b[49m\u001b[43mtyp\u001b[49m\u001b[38;5;241;43m=\u001b[39;49m\u001b[43mmanager\u001b[49m\u001b[43m,\u001b[49m\n\u001b[1;32m    729\u001b[0m \u001b[43m        \u001b[49m\u001b[43m)\u001b[49m\n\u001b[1;32m    731\u001b[0m \u001b[38;5;66;03m# For data is list-like, or Iterable (will consume into list)\u001b[39;00m\n\u001b[1;32m    732\u001b[0m \u001b[38;5;28;01melif\u001b[39;00m is_list_like(data):\n",
      "File \u001b[0;32m~/anaconda3/lib/python3.10/site-packages/pandas/core/internals/construction.py:349\u001b[0m, in \u001b[0;36mndarray_to_mgr\u001b[0;34m(values, index, columns, dtype, copy, typ)\u001b[0m\n\u001b[1;32m    344\u001b[0m \u001b[38;5;66;03m# _prep_ndarraylike ensures that values.ndim == 2 at this point\u001b[39;00m\n\u001b[1;32m    345\u001b[0m index, columns \u001b[38;5;241m=\u001b[39m _get_axes(\n\u001b[1;32m    346\u001b[0m     values\u001b[38;5;241m.\u001b[39mshape[\u001b[38;5;241m0\u001b[39m], values\u001b[38;5;241m.\u001b[39mshape[\u001b[38;5;241m1\u001b[39m], index\u001b[38;5;241m=\u001b[39mindex, columns\u001b[38;5;241m=\u001b[39mcolumns\n\u001b[1;32m    347\u001b[0m )\n\u001b[0;32m--> 349\u001b[0m \u001b[43m_check_values_indices_shape_match\u001b[49m\u001b[43m(\u001b[49m\u001b[43mvalues\u001b[49m\u001b[43m,\u001b[49m\u001b[43m \u001b[49m\u001b[43mindex\u001b[49m\u001b[43m,\u001b[49m\u001b[43m \u001b[49m\u001b[43mcolumns\u001b[49m\u001b[43m)\u001b[49m\n\u001b[1;32m    351\u001b[0m \u001b[38;5;28;01mif\u001b[39;00m typ \u001b[38;5;241m==\u001b[39m \u001b[38;5;124m\"\u001b[39m\u001b[38;5;124marray\u001b[39m\u001b[38;5;124m\"\u001b[39m:\n\u001b[1;32m    353\u001b[0m     \u001b[38;5;28;01mif\u001b[39;00m \u001b[38;5;28missubclass\u001b[39m(values\u001b[38;5;241m.\u001b[39mdtype\u001b[38;5;241m.\u001b[39mtype, \u001b[38;5;28mstr\u001b[39m):\n",
      "File \u001b[0;32m~/anaconda3/lib/python3.10/site-packages/pandas/core/internals/construction.py:420\u001b[0m, in \u001b[0;36m_check_values_indices_shape_match\u001b[0;34m(values, index, columns)\u001b[0m\n\u001b[1;32m    418\u001b[0m passed \u001b[38;5;241m=\u001b[39m values\u001b[38;5;241m.\u001b[39mshape\n\u001b[1;32m    419\u001b[0m implied \u001b[38;5;241m=\u001b[39m (\u001b[38;5;28mlen\u001b[39m(index), \u001b[38;5;28mlen\u001b[39m(columns))\n\u001b[0;32m--> 420\u001b[0m \u001b[38;5;28;01mraise\u001b[39;00m \u001b[38;5;167;01mValueError\u001b[39;00m(\u001b[38;5;124mf\u001b[39m\u001b[38;5;124m\"\u001b[39m\u001b[38;5;124mShape of passed values is \u001b[39m\u001b[38;5;132;01m{\u001b[39;00mpassed\u001b[38;5;132;01m}\u001b[39;00m\u001b[38;5;124m, indices imply \u001b[39m\u001b[38;5;132;01m{\u001b[39;00mimplied\u001b[38;5;132;01m}\u001b[39;00m\u001b[38;5;124m\"\u001b[39m)\n",
      "\u001b[0;31mValueError\u001b[0m: Shape of passed values is (1, 2922), indices imply (1, 1)"
     ]
    }
   ],
   "source": [
    "# Remission predictions\n",
    "var=\"Remission\"\n",
    "print(var, \" on Remission\")\n",
    "print(\"MAE\", mean_absolute_error(test_dict[\"Remission\"], lm_dict[var].predict(train_dict[\"Remission\"])))\n",
    "print(\"MSE\", mean_squared_error(test_dict[\"Remission\"], lm_dict[var].predict(train_dict[\"Remission\"])))\n",
    "\n",
    "print(var, \" on Mild\")\n",
    "print(\"MAE\", mean_absolute_error(test_dict[\"Mild\"], lm_dict[var].predict(train_dict[\"Mild\"])))\n",
    "print(\"MSE\", mean_squared_error(test_dict[\"Mild\"], lm_dict[var].predict(train_dict[\"Mild\"])))\n",
    "print(var, \" on Moderate\")\n",
    "print(\"MAE\", mean_absolute_error(test_dict[\"Moderate\"], lm_dict[var].predict(train_dict[\"Moderate\"])))\n",
    "print(\"MSE\", mean_squared_error(test_dict[\"Moderate\"], lm_dict[var].predict(train_dict[\"Moderate\"])))\n",
    "print(var, \" on Severe\")\n",
    "print(\"MAE\", mean_absolute_error(test_dict[\"Severe\"], lm_dict[var].predict(train_dict[\"Severe\"])))\n",
    "print(\"MSE\", mean_squared_error(test_dict[\"Severe\"], lm_dict[var].predict(train_dict[\"Severe\"])))\n",
    "\n",
    "\n",
    "\n",
    "coefs = pd.DataFrame(\n",
    "    lm_dict[var].coef_, columns=[\"Coefficients\"], index=test_dict[var].columns\n",
    ")\n"
   ]
  },
  {
   "cell_type": "code",
   "execution_count": 58,
   "id": "45809872-6889-4200-9e17-7b98ca8bd3a6",
   "metadata": {},
   "outputs": [
    {
     "name": "stdout",
     "output_type": "stream",
     "text": [
      "Mild  on Remission\n",
      "MAE 5.391125197304927\n",
      "MSE 47.320895599134936\n",
      "Mild  on Mild\n",
      "MAE 4.6047753423936814e-14\n",
      "MSE 3.486459835565174e-27\n",
      "Mild  on Moderate\n",
      "MAE 5.0021833035604235\n",
      "MSE 39.48322507912047\n",
      "Mild  on Severe\n",
      "MAE 6.2738410914719065\n",
      "MSE 57.34531919516107\n"
     ]
    }
   ],
   "source": [
    "# Mild predictions\n",
    "var=\"Mild\"\n",
    "print(var, \" on Remission\")\n",
    "print(\"MAE\", mean_absolute_error(test_dict[\"Remission\"], lm_dict[var].predict(train_dict[\"Remission\"])))\n",
    "print(\"MSE\", mean_squared_error(test_dict[\"Remission\"], lm_dict[var].predict(train_dict[\"Remission\"])))\n",
    "\n",
    "print(var, \" on Mild\")\n",
    "print(\"MAE\", mean_absolute_error(test_dict[\"Mild\"], lm_dict[var].predict(train_dict[\"Mild\"])))\n",
    "print(\"MSE\", mean_squared_error(test_dict[\"Mild\"], lm_dict[var].predict(train_dict[\"Mild\"])))\n",
    "print(var, \" on Moderate\")\n",
    "print(\"MAE\", mean_absolute_error(test_dict[\"Moderate\"], lm_dict[var].predict(train_dict[\"Moderate\"])))\n",
    "print(\"MSE\", mean_squared_error(test_dict[\"Moderate\"], lm_dict[var].predict(train_dict[\"Moderate\"])))\n",
    "print(var, \" on Severe\")\n",
    "print(\"MAE\", mean_absolute_error(test_dict[\"Severe\"], lm_dict[var].predict(train_dict[\"Severe\"])))\n",
    "print(\"MSE\", mean_squared_error(test_dict[\"Severe\"], lm_dict[var].predict(train_dict[\"Severe\"])))"
   ]
  },
  {
   "cell_type": "code",
   "execution_count": 59,
   "id": "e18c5d9d-b82a-406a-9cf2-e0b7effafdc2",
   "metadata": {},
   "outputs": [
    {
     "name": "stdout",
     "output_type": "stream",
     "text": [
      "Moderate  on Remission\n",
      "MAE 5.3197833747363905\n",
      "MSE 45.92463990788887\n",
      "Moderate  on Mild\n",
      "MAE 4.929210248843999\n",
      "MSE 35.68969942401356\n",
      "Moderate  on Moderate\n",
      "MAE 1.1873715685886474e-13\n",
      "MSE 2.1422996085249743e-26\n",
      "Moderate  on Severe\n",
      "MAE 6.353635825590385\n",
      "MSE 69.46316814625482\n"
     ]
    }
   ],
   "source": [
    "# Moderate predictions\n",
    "var=\"Moderate\"\n",
    "print(var, \" on Remission\")\n",
    "print(\"MAE\", mean_absolute_error(test_dict[\"Remission\"], lm_dict[var].predict(train_dict[\"Remission\"])))\n",
    "print(\"MSE\", mean_squared_error(test_dict[\"Remission\"], lm_dict[var].predict(train_dict[\"Remission\"])))\n",
    "\n",
    "print(var, \" on Mild\")\n",
    "print(\"MAE\", mean_absolute_error(test_dict[\"Mild\"], lm_dict[var].predict(train_dict[\"Mild\"])))\n",
    "print(\"MSE\", mean_squared_error(test_dict[\"Mild\"], lm_dict[var].predict(train_dict[\"Mild\"])))\n",
    "print(var, \" on Moderate\")\n",
    "print(\"MAE\", mean_absolute_error(test_dict[\"Moderate\"], lm_dict[var].predict(train_dict[\"Moderate\"])))\n",
    "print(\"MSE\", mean_squared_error(test_dict[\"Moderate\"], lm_dict[var].predict(train_dict[\"Moderate\"])))\n",
    "print(var, \" on Severe\")\n",
    "print(\"MAE\", mean_absolute_error(test_dict[\"Severe\"], lm_dict[var].predict(train_dict[\"Severe\"])))\n",
    "print(\"MSE\", mean_squared_error(test_dict[\"Severe\"], lm_dict[var].predict(train_dict[\"Severe\"])))"
   ]
  },
  {
   "cell_type": "code",
   "execution_count": 60,
   "id": "b4bd0753-6510-4d20-a664-917171180d90",
   "metadata": {},
   "outputs": [
    {
     "name": "stdout",
     "output_type": "stream",
     "text": [
      "Severe  on Remission\n",
      "MAE 9.149095769991346\n",
      "MSE 132.14305558819368\n",
      "Severe  on Mild\n",
      "MAE 8.746611574806733\n",
      "MSE 110.70553162500049\n",
      "Severe  on Moderate\n",
      "MAE 8.158887831997946\n",
      "MSE 101.62750497078378\n",
      "Severe  on Severe\n",
      "MAE 3.992128265388984e-14\n",
      "MSE 2.6249969406154344e-27\n"
     ]
    }
   ],
   "source": [
    "# Severe predictions\n",
    "var=\"Severe\"\n",
    "print(var, \" on Remission\")\n",
    "print(\"MAE\", mean_absolute_error(test_dict[\"Remission\"], lm_dict[var].predict(train_dict[\"Remission\"])))\n",
    "print(\"MSE\", mean_squared_error(test_dict[\"Remission\"], lm_dict[var].predict(train_dict[\"Remission\"])))\n",
    "\n",
    "print(var, \" on Mild\")\n",
    "print(\"MAE\", mean_absolute_error(test_dict[\"Mild\"], lm_dict[var].predict(train_dict[\"Mild\"])))\n",
    "print(\"MSE\", mean_squared_error(test_dict[\"Mild\"], lm_dict[var].predict(train_dict[\"Mild\"])))\n",
    "print(var, \" on Moderate\")\n",
    "print(\"MAE\", mean_absolute_error(test_dict[\"Moderate\"], lm_dict[var].predict(train_dict[\"Moderate\"])))\n",
    "print(\"MSE\", mean_squared_error(test_dict[\"Moderate\"], lm_dict[var].predict(train_dict[\"Moderate\"])))\n",
    "print(var, \" on Severe\")\n",
    "print(\"MAE\", mean_absolute_error(test_dict[\"Severe\"], lm_dict[var].predict(train_dict[\"Severe\"])))\n",
    "print(\"MSE\", mean_squared_error(test_dict[\"Severe\"], lm_dict[var].predict(train_dict[\"Severe\"])))"
   ]
  },
  {
   "cell_type": "code",
   "execution_count": null,
   "id": "c49c5f39-e7e9-4ad5-a43f-7b3c834105f5",
   "metadata": {},
   "outputs": [],
   "source": []
  },
  {
   "cell_type": "code",
   "execution_count": null,
   "id": "5625be1b-3bc8-466d-8cf3-e42db7ab7027",
   "metadata": {},
   "outputs": [],
   "source": []
  },
  {
   "cell_type": "code",
   "execution_count": null,
   "id": "15b0847c-9925-44cb-bb99-9de2791f179a",
   "metadata": {},
   "outputs": [],
   "source": []
  }
 ],
 "metadata": {
  "kernelspec": {
   "display_name": "Python 3 (ipykernel)",
   "language": "python",
   "name": "python3"
  },
  "language_info": {
   "codemirror_mode": {
    "name": "ipython",
    "version": 3
   },
   "file_extension": ".py",
   "mimetype": "text/x-python",
   "name": "python",
   "nbconvert_exporter": "python",
   "pygments_lexer": "ipython3",
   "version": "3.10.9"
  }
 },
 "nbformat": 4,
 "nbformat_minor": 5
}
